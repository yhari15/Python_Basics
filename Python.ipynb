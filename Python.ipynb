{
 "cells": [
  {
   "cell_type": "code",
   "execution_count": 4,
   "metadata": {},
   "outputs": [
    {
     "name": "stdout",
     "output_type": "stream",
     "text": [
      "5.5\n"
     ]
    }
   ],
   "source": [
    "a = 5.5\n",
    "print(a)"
   ]
  },
  {
   "cell_type": "code",
   "execution_count": 16,
   "metadata": {},
   "outputs": [
    {
     "name": "stdout",
     "output_type": "stream",
     "text": [
      "555\n",
      "True\n",
      "<class 'bool'>\n",
      "do's\n",
      "do's\n",
      "5 True do's do's\n",
      "a= 5 b= True c= do's\n",
      "a=5,b=True,c=do's\n"
     ]
    }
   ],
   "source": [
    "a='5'\n",
    "print(a*3)\n",
    "b= True\n",
    "print(b)\n",
    "print(type(b))\n",
    "c=\"do's\"\n",
    "d='do\\'s'\n",
    "print(c)\n",
    "print(d)\n",
    "print(a,b,c,d)\n",
    "print('a=',a,'b=',b,'c=',c)\n",
    "print(\"a={},b={},c={}\".format(a,b,c))"
   ]
  },
  {
   "cell_type": "code",
   "execution_count": 35,
   "metadata": {},
   "outputs": [
    {
     "name": "stdin",
     "output_type": "stream",
     "text": [
      " 17.5\n"
     ]
    },
    {
     "name": "stdout",
     "output_type": "stream",
     "text": [
      "17.5 17 12.0 12.0 True\n",
      "<class 'float'> <class 'int'> <class 'float'> <class 'str'> <class 'bool'>\n"
     ]
    }
   ],
   "source": [
    "a=float(input())\n",
    "b=int(a)\n",
    "c=float(b)\n",
    "c=c-5\n",
    "d=str(c)\n",
    "e=bool(d)\n",
    "print(a,b,c,d,e)\n",
    "print(type(a),type(b),type(c),type(d),type(e))"
   ]
  },
  {
   "cell_type": "code",
   "execution_count": 37,
   "metadata": {},
   "outputs": [
    {
     "name": "stdout",
     "output_type": "stream",
     "text": [
      "4 1.75 1 3 2401\n"
     ]
    }
   ],
   "source": [
    "a=7\n",
    "b=4\n",
    "c=a/b\n",
    "d=a//b\n",
    "e=a%b\n",
    "f=a**b\n",
    "print(b,c,d,e,f)"
   ]
  },
  {
   "cell_type": "code",
   "execution_count": 43,
   "metadata": {},
   "outputs": [
    {
     "name": "stdout",
     "output_type": "stream",
     "text": [
      "<class 'int'>\n",
      "1\n",
      "<class 'int'>\n"
     ]
    }
   ],
   "source": [
    "a=4\n",
    "print(type(a))\n",
    "a//=3\n",
    "print(a)\n",
    "print(type(a))"
   ]
  },
  {
   "cell_type": "code",
   "execution_count": 2,
   "metadata": {},
   "outputs": [
    {
     "data": {
      "text/plain": [
       "False"
      ]
     },
     "execution_count": 2,
     "metadata": {},
     "output_type": "execute_result"
    }
   ],
   "source": [
    "x=\"Hi Hari\"\n",
    "\"Hi\" in x\n",
    "\"Hi\" not in x"
   ]
  },
  {
   "cell_type": "code",
   "execution_count": 4,
   "metadata": {},
   "outputs": [
    {
     "name": "stdout",
     "output_type": "stream",
     "text": [
      "False\n",
      "True\n"
     ]
    }
   ],
   "source": [
    "x=['Hi','Hari']\n",
    "y=['Hi','Hari']\n",
    "print(x is y)\n",
    "z=x # z points to x\n",
    "print(x is z)"
   ]
  },
  {
   "cell_type": "code",
   "execution_count": 22,
   "metadata": {},
   "outputs": [
    {
     "name": "stdout",
     "output_type": "stream",
     "text": [
      "['hari', 5, 15, True, 5, 'hp', 2.5]\n",
      "7\n",
      "['hari', 5, 15, True]\n",
      "[5, 15]\n",
      "['hari', 5, 15, True, 5, 'hp', 2.5, ['csk', 'MI']]\n",
      "['hari', 5, 15, True, 5, 'hp', 2.5, ['csk', 'MI'], 'csk', 'milne']\n",
      "['hari', 5, 'MI', True, 'sam', 5, 'hp', 2.5, ['csk', 'MI'], 'csk', 'milne']\n",
      "['hari', 5, 5, 6, 'sam', 5, 'hp', 2.5, ['csk', 'MI'], 'csk', 'milne']\n",
      "[5, 5, 6, 'sam', 5, 'hp', 2.5, ['csk', 'MI'], 'csk', 'milne']\n",
      "[5, 6, 'sam', 5, 'hp', 2.5, ['csk', 'MI'], 'csk', 'milne']\n",
      "[5, 6, 'sam', 5, 2.5, ['csk', 'MI'], 'csk', 'milne']\n",
      "[]\n"
     ]
    }
   ],
   "source": [
    "a=['hari',5,15,True,5,'hp',2.5]\n",
    "print(a)\n",
    "print(len(a))\n",
    "print(a[-7:-3])\n",
    "print(a[1:3])\n",
    "a.append(['csk','MI'])\n",
    "print(a)\n",
    "a.extend(['csk','milne'])\n",
    "print(a)\n",
    "a.insert(4,'sam')\n",
    "a[2]='MI'\n",
    "print(a)\n",
    "a[2:4]=[5,6]\n",
    "print(a)\n",
    "del(a[0])\n",
    "print(a)\n",
    "a.remove(5)\n",
    "print(a)\n",
    "a.pop(4)\n",
    "print(a)\n",
    "a.clear()\n",
    "print(a)\n",
    "del a"
   ]
  },
  {
   "cell_type": "code",
   "execution_count": 31,
   "metadata": {},
   "outputs": [
    {
     "name": "stdout",
     "output_type": "stream",
     "text": [
      "4.5\n",
      "(2, 4, 'hi', 4.5, 'bye', 'csk', 'MI')\n",
      "(4.5, 'bye')\n",
      "[2, 4, 'hi', 4.5, 'bye', 'csk', 'MI']\n",
      "('Milne', 4, 'hi', 4.5, 'bye', 'csk', 'MI')\n"
     ]
    }
   ],
   "source": [
    "t=(2,4,'hi',4.5,'bye')\n",
    "print(t[3])\n",
    "t=t+('csk','MI')\n",
    "print(t)\n",
    "print(t[3:5])\n",
    "y=list(t)\n",
    "print(y)\n",
    "y[0]='Milne'\n",
    "t=tuple(y)\n",
    "print(t)"
   ]
  },
  {
   "cell_type": "code",
   "execution_count": null,
   "metadata": {},
   "outputs": [],
   "source": []
  },
  {
   "cell_type": "code",
   "execution_count": 41,
   "metadata": {},
   "outputs": [
    {
     "name": "stdout",
     "output_type": "stream",
     "text": [
      "{2, 4.5, 4, 'hi', 'bye'}\n",
      "{2, 4.5, 4, 'hi', 5, 'bye'}\n",
      "{2, 4.5, 'hi', 5, 'bye'}\n",
      "{2, 4.5, 'hi', 5, 'bye'}\n",
      "{2}\n",
      "{2, 4.5, 'hi', 5, 4, 'csk', 'bye', 'MI'}\n",
      "{0, 1, 'bool'}\n"
     ]
    }
   ],
   "source": [
    "s={2,4,'hi',4.5,'bye'}\n",
    "print(s)\n",
    "s.add(5)\n",
    "print(s)\n",
    "s.remove(4)\n",
    "print(s)\n",
    "s.add(5)\n",
    "print(s)\n",
    "s1={2,4,'csk','MI'}\n",
    "i=s&s1\n",
    "print(i)\n",
    "i=s.union(s1)\n",
    "print(i)\n",
    "y={0,1,False,'bool'}\n",
    "print(y)"
   ]
  },
  {
   "cell_type": "code",
   "execution_count": 49,
   "metadata": {},
   "outputs": [
    {
     "name": "stdout",
     "output_type": "stream",
     "text": [
      "{'Name': 'Ram', 'age': 45, 'country': 'Norway'}\n",
      "Ram\n",
      "45\n",
      "{'Name': 'Ram', 'age': 45, 'country': 'Norway', 'gender': 'M'}\n",
      "{'Name': 'Hari', 'age': 45, 'country': 'Norway', 'gender': 'M'}\n",
      "{'Name': 'Hari', 'age': 45, 'country': 'Norway', 'gender': 'M', 'hobby': 'soccer', 'pincode': 533033}\n"
     ]
    }
   ],
   "source": [
    "student={'Name':'Ram','age':45,'country':'Norway'}\n",
    "print(student)\n",
    "print(student['Name'])\n",
    "print(student['age'])\n",
    "student['gender']='M'\n",
    "print(student)\n",
    "student['Name']='Hari'\n",
    "print(student)\n",
    "student.update({'hobby':'soccer','pincode':533033})\n",
    "print(student)"
   ]
  }
 ],
 "metadata": {
  "kernelspec": {
   "display_name": "Python 3",
   "language": "python",
   "name": "python3"
  },
  "language_info": {
   "codemirror_mode": {
    "name": "ipython",
    "version": 3
   },
   "file_extension": ".py",
   "mimetype": "text/x-python",
   "name": "python",
   "nbconvert_exporter": "python",
   "pygments_lexer": "ipython3",
   "version": "3.7.6"
  }
 },
 "nbformat": 4,
 "nbformat_minor": 4
}
