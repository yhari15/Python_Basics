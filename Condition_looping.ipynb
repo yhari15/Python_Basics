{
 "cells": [
  {
   "cell_type": "code",
   "execution_count": null,
   "metadata": {},
   "outputs": [],
   "source": [
    "#Conditioning and Loop"
   ]
  },
  {
   "cell_type": "code",
   "execution_count": 11,
   "metadata": {},
   "outputs": [
    {
     "name": "stdout",
     "output_type": "stream",
     "text": [
      "a!=10 and not in range of 8 to 15\n",
      "Program Dying\n"
     ]
    }
   ],
   "source": [
    "a=15\n",
    "if(a==10):\n",
    "    print('a=',a)\n",
    "elif((a>8)and(a<15)):\n",
    "    print('a is between8 to 10')\n",
    "else:\n",
    "    print('a!=10 and not in range of 8 to 15')\n",
    "print('Program Dying')"
   ]
  },
  {
   "cell_type": "code",
   "execution_count": 13,
   "metadata": {},
   "outputs": [
    {
     "name": "stdout",
     "output_type": "stream",
     "text": [
      "1\n",
      "2\n",
      "3\n",
      "Hi\n",
      "program dying\n"
     ]
    },
    {
     "data": {
      "text/plain": [
       "str"
      ]
     },
     "execution_count": 13,
     "metadata": {},
     "output_type": "execute_result"
    }
   ],
   "source": [
    "L=[1,2,3,'Hi']\n",
    "for l in L:\n",
    "    print(l)\n",
    "print('program dying')\n",
    "type(l)"
   ]
  },
  {
   "cell_type": "code",
   "execution_count": 18,
   "metadata": {},
   "outputs": [
    {
     "name": "stdout",
     "output_type": "stream",
     "text": [
      "['changed', 2, 3, 'Hi']\n",
      "['changed', 2, 3, 'Hi']\n",
      "['changed', 2, 3, 'Hi']\n",
      "['changed', 2, 3, 'Hi']\n",
      "['changed', 2, 3, 'Hi']\n",
      "<class 'list'>\n"
     ]
    }
   ],
   "source": [
    "L=[1,2,3,'Hi']\n",
    "for i in range(4):\n",
    "    if(i==0):\n",
    "        L[i]='changed'\n",
    "    print(L)\n",
    "print(L)\n",
    "print(type(L))"
   ]
  },
  {
   "cell_type": "code",
   "execution_count": 22,
   "metadata": {},
   "outputs": [
    {
     "name": "stdout",
     "output_type": "stream",
     "text": [
      "1\n",
      "2\n",
      "csk\n",
      "5\n",
      "Prog_Done\n"
     ]
    }
   ],
   "source": [
    "l=[1,2,'csk',5]\n",
    "for i in l:\n",
    "    print(i)\n",
    "print('Prog_Done')\n",
    "    "
   ]
  },
  {
   "cell_type": "code",
   "execution_count": 25,
   "metadata": {},
   "outputs": [
    {
     "name": "stdout",
     "output_type": "stream",
     "text": [
      "[0, 2, 4, 6, 8, 10, 12, 14, 16, 18, 20, 22, 24, 26, 28, 30, 32, 34, 36, 38, 40, 42, 44, 46, 48, 50, 52, 54, 56, 58, 60, 62, 64, 66, 68, 70, 72, 74, 76, 78, 80, 82, 84, 86, 88, 90, 92, 94, 96, 98, 100]\n",
      "51\n",
      "50\n"
     ]
    }
   ],
   "source": [
    "List1=[]\n",
    "even_count=0\n",
    "odd_count=0\n",
    "for i in range(0,101,1):\n",
    "    if(i%2==0):\n",
    "        List1.append(i)\n",
    "        even_count+=1\n",
    "    else:\n",
    "        odd_count+=1\n",
    "print(List1)\n",
    "print(even_count)\n",
    "print(odd_count)\n",
    "    "
   ]
  },
  {
   "cell_type": "code",
   "execution_count": 27,
   "metadata": {},
   "outputs": [
    {
     "name": "stdout",
     "output_type": "stream",
     "text": [
      "[0, 2, 4, 6, 8, 10, 12, 14, 16, 18, 20, 22, 24, 26, 28, 30, 32, 34, 36, 38, 40, 42, 44, 46, 48, 50, 52, 54, 56, 58, 60, 62, 64, 66, 68, 70, 72, 74, 76, 78, 80, 82, 84, 86, 88, 90, 92, 94, 96, 98, 100]\n",
      "51\n",
      "50\n"
     ]
    }
   ],
   "source": [
    "List1=[]\n",
    "even_count=0\n",
    "odd_count=0\n",
    "i=0\n",
    "while(i<101):\n",
    "    if(i%2==0):\n",
    "        List1.append(i)\n",
    "        even_count+=1\n",
    "    else:\n",
    "        odd_count+=1\n",
    "    i=i+1\n",
    "print(List1)\n",
    "print(even_count)\n",
    "print(odd_count)"
   ]
  },
  {
   "cell_type": "code",
   "execution_count": 20,
   "metadata": {},
   "outputs": [
    {
     "name": "stdout",
     "output_type": "stream",
     "text": [
      "['changed', 2, 3, 'Hi']\n",
      "['changed', 2, 3, 'Hi']\n",
      "['changed', 2, 3, 'Hi']\n",
      "['changed', 2, 3, 'Hi']\n",
      "['changed', 2, 3, 'Hi']\n",
      "<class 'list'>\n"
     ]
    }
   ],
   "source": [
    "L=[1,2,3,'Hi']\n",
    "i=0\n",
    "while(i<4):\n",
    "    if(i==0):\n",
    "        L[i]='changed'\n",
    "    print(L)\n",
    "    i+=1\n",
    "print(L)\n",
    "print(type(L))"
   ]
  },
  {
   "cell_type": "code",
   "execution_count": 3,
   "metadata": {},
   "outputs": [
    {
     "name": "stdout",
     "output_type": "stream",
     "text": [
      "8\n",
      "-1\n"
     ]
    }
   ],
   "source": [
    "def Mul(a,b):\n",
    "    c=a*b\n",
    "    return c\n",
    "def sub(a,b):\n",
    "    c=a-b\n",
    "    return c\n",
    "d=Mul(2,4)\n",
    "e=sub(d,9)\n",
    "print(d)\n",
    "print(e)"
   ]
  }
 ],
 "metadata": {
  "kernelspec": {
   "display_name": "Python 3",
   "language": "python",
   "name": "python3"
  },
  "language_info": {
   "codemirror_mode": {
    "name": "ipython",
    "version": 3
   },
   "file_extension": ".py",
   "mimetype": "text/x-python",
   "name": "python",
   "nbconvert_exporter": "python",
   "pygments_lexer": "ipython3",
   "version": "3.7.6"
  }
 },
 "nbformat": 4,
 "nbformat_minor": 4
}
